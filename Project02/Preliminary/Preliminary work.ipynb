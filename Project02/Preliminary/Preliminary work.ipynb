{
 "cells": [
  {
   "cell_type": "markdown",
   "metadata": {},
   "source": [
    "$$ F_{1} - f_{1} - N_{0x} = M_{1}a_{1} $$\n",
    "$$ T - f_{2} = M_{2}a_{2} $$\n",
    "$$ -F_{1} = M_{3}a_{3x} $$\n",
    "$$ 2f_{3} + T - M_{3}g = M_{3}a_{3y} $$\n",
    "$$ N_{0x} - T = M_{0}a_{0} = 0 $$\n",
    "\n",
    "Constraints(the derivation can be found in the solution of the quiz):\n",
    "$$ a_{1} - a_{2} - a_{3y} = 0 $$\n",
    "$$ a_{1} = a_{3x} $$"
   ]
  },
  {
   "cell_type": "markdown",
   "metadata": {},
   "source": [
    "<img src=\"fd.png\">"
   ]
  },
  {
   "cell_type": "markdown",
   "metadata": {},
   "source": [
    "Let's note that\n",
    "$$ f_{1} = \\mu_{1}N_{1} $$\n",
    "$$ f_{2} = \\mu_{2}N_{2} $$\n",
    "$$ f_{3} = \\mu_{3}F_{1} $$\n",
    "are forces emerged because of friction."
   ]
  },
  {
   "cell_type": "markdown",
   "metadata": {},
   "source": [
    "From the system of equations above, we can find $F_{1}(t)$ and $ x_{1}(t), x_{2}(t), y_{3}(t)$. Having the mentioned functions. We will be able to calculate their values at a given time $t$."
   ]
  }
 ],
 "metadata": {
  "kernelspec": {
   "display_name": "Python 3",
   "language": "python",
   "name": "python3"
  },
  "language_info": {
   "codemirror_mode": {
    "name": "ipython",
    "version": 3
   },
   "file_extension": ".py",
   "mimetype": "text/x-python",
   "name": "python",
   "nbconvert_exporter": "python",
   "pygments_lexer": "ipython3",
   "version": "3.6.8"
  }
 },
 "nbformat": 4,
 "nbformat_minor": 2
}
