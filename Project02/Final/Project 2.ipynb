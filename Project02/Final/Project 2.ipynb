{
 "cells": [
  {
   "cell_type": "markdown",
   "metadata": {},
   "source": [
    "Let's construct the system of equations based on the diagrams of forces below."
   ]
  },
  {
   "cell_type": "markdown",
   "metadata": {},
   "source": [
    "$$ F_{1} - f_{1} - N_{0x} = M_{1}a_{1} $$\n",
    "$$ T - f_{2} = M_{2}a_{2} $$\n",
    "$$ -F_{1} = M_{3}a_{3x} $$\n",
    "$$ 2f_{3} + T - M_{3}g = M_{3}a_{3y} $$\n",
    "$$ N_{0x} - T = M_{0}a_{0} = 0 $$\n",
    "\n",
    "Constraints(the derivation can be found in the solution of the quiz):\n",
    "$$ a_{1} - a_{2} - a_{3y} = 0 $$\n",
    "$$ a_{1} = a_{3x} $$"
   ]
  },
  {
   "cell_type": "markdown",
   "metadata": {},
   "source": [
    "<img src=\"fd.png\">"
   ]
  },
  {
   "cell_type": "markdown",
   "metadata": {},
   "source": [
    "Let's note that\n",
    "$$ f_{1} = \\mu_{1}N_{1} $$\n",
    "$$ f_{2} = \\mu_{2}N_{2} $$\n",
    "$$ f_{3} = \\mu_{3}F_{1} $$\n",
    "are forces emerged because of friction.\n",
    "Where\n",
    "$$ N_{1} = M_{1}g + N_{2} + N_{0y}$$\n",
    "$$ N_{2} = M_{2}g $$\n",
    "$$ N_{0y} = T\\sqrt{2}/2 $$ from the diagram of M0\n"
   ]
  },
  {
   "cell_type": "markdown",
   "metadata": {},
   "source": [
    "From the system of equations above, we can find $ x_{1}(t), x_{2}(t), y_{3}(t)$. Having the mentioned functions. We will be able to calculate their values at a given time $t$."
   ]
  },
  {
   "cell_type": "markdown",
   "metadata": {},
   "source": [
    "IMPORTANT NOTE: After several changes, it is important to say that the pictures of my calculations are not valid anymore. "
   ]
  },
  {
   "cell_type": "code",
   "execution_count": 6,
   "metadata": {},
   "outputs": [],
   "source": [
    "import numpy as np"
   ]
  },
  {
   "cell_type": "code",
   "execution_count": 95,
   "metadata": {},
   "outputs": [],
   "source": [
    "M1 = 1\n",
    "M2 = 5\n",
    "M3 = 30000\n",
    "mu1 = 0.09\n",
    "mu2 = 3\n",
    "mu3 = 0.1\n",
    "g = 10"
   ]
  },
  {
   "cell_type": "markdown",
   "metadata": {},
   "source": [
    "# General solution of the system"
   ]
  },
  {
   "cell_type": "code",
   "execution_count": 96,
   "metadata": {},
   "outputs": [],
   "source": [
    "# The system of linear equations (see images calcs1.jpeg and calcs2.jpeg for more detail)\n",
    "A = np.array([[-(M1 + M3), -M2], [-(2*mu3*M3 + M3), M2 + M3]])\n",
    "b = np.array([[M2*mu2*g + M1*mu1*g + M2*mu1*g, M3*g - M2*mu2*g]])"
   ]
  },
  {
   "cell_type": "code",
   "execution_count": 97,
   "metadata": {},
   "outputs": [],
   "source": [
    "# Solve\n",
    "a = np.linalg.inv(A).dot(b.T)\n",
    "a = np.squeeze(a)"
   ]
  },
  {
   "cell_type": "code",
   "execution_count": 98,
   "metadata": {},
   "outputs": [
    {
     "data": {
      "text/plain": [
       "([-0.006843959045027291, 0],\n",
       " [9.985123061968974, 0],\n",
       " [-0.006843959045027291, -9.991967021014])"
      ]
     },
     "execution_count": 98,
     "metadata": {},
     "output_type": "execute_result"
    }
   ],
   "source": [
    "a1 = [a[0], 0]\n",
    "a2 = [a[1], 0]\n",
    "a3 = [a1[0], a[0] - a2[0]]\n",
    "\n",
    "a1, a2, a3"
   ]
  },
  {
   "cell_type": "markdown",
   "metadata": {},
   "source": [
    "# Our problem"
   ]
  },
  {
   "cell_type": "code",
   "execution_count": 99,
   "metadata": {},
   "outputs": [],
   "source": [
    "# I don't really get why we need to get F as an inpuy if we can find it from the system of linear equations I presented above\n",
    "# but anyways, in that case a1 = -F/M3 and a2 = (T - mu2*M2*g)/M2, where T = F - mu1*g*(M1 + M2) - M1*a1\n",
    "def compute_accelerations(F):\n",
    "    a1 = -F/M3\n",
    "    T =  F - mu1*g*(M1 + M2) - M1*a1\n",
    "    a2 = (T - mu2*M2*g)/M2\n",
    "    \n",
    "    a1 = [a1, 0]\n",
    "    a2 = [a2, 0]\n",
    "    a3 = [a1[0], a1[0] - a2[0]]\n",
    "    \n",
    "    return a1, a2, a3\n",
    "    "
   ]
  },
  {
   "cell_type": "code",
   "execution_count": 100,
   "metadata": {},
   "outputs": [],
   "source": [
    "# Just an example of t and F, it should be changed by the data on which the program should work\n",
    "t = np.linspace(1, 20, 30)\n",
    "F = np.random.random(30)*(-1) + 300"
   ]
  },
  {
   "cell_type": "code",
   "execution_count": 101,
   "metadata": {},
   "outputs": [
    {
     "data": {
      "text/plain": [
       "array([ 1.        ,  1.65517241,  2.31034483,  2.96551724,  3.62068966,\n",
       "        4.27586207,  4.93103448,  5.5862069 ,  6.24137931,  6.89655172,\n",
       "        7.55172414,  8.20689655,  8.86206897,  9.51724138, 10.17241379,\n",
       "       10.82758621, 11.48275862, 12.13793103, 12.79310345, 13.44827586,\n",
       "       14.10344828, 14.75862069, 15.4137931 , 16.06896552, 16.72413793,\n",
       "       17.37931034, 18.03448276, 18.68965517, 19.34482759, 20.        ])"
      ]
     },
     "execution_count": 101,
     "metadata": {},
     "output_type": "execute_result"
    }
   ],
   "source": [
    "t"
   ]
  },
  {
   "cell_type": "code",
   "execution_count": 102,
   "metadata": {},
   "outputs": [],
   "source": [
    "v1 = 0; v2 = 0; v3 = 0\n",
    "x1 = [0, 0]\n",
    "x2 = [0, 0]\n",
    "x3 = [0, 0]"
   ]
  },
  {
   "cell_type": "code",
   "execution_count": 103,
   "metadata": {},
   "outputs": [],
   "source": [
    "positions = []\n",
    "for i in range(len(t)):\n",
    "    a1, a2, a3 = compute_accelerations(F[i])\n",
    "    x1[0] += v1*t[i] + a1[0]*(t[i]**2)/2\n",
    "    v1 += a1[0]*t[i]\n",
    "    x2[0] += v2*t[i] + a2[0]*(t[i]**2)/2\n",
    "    v2 += a2[0]*t[i]\n",
    "    x3[0] = x1[0]\n",
    "    x3[1] += v3*t[i] + a3[1]*(t[i]**2)/2\n",
    "    v3 += a3[1]*t[i]\n",
    "    positions.append([x1.copy(), x2.copy(), x3.copy()])"
   ]
  },
  {
   "cell_type": "code",
   "execution_count": 104,
   "metadata": {},
   "outputs": [],
   "source": [
    "import matplotlib.pyplot as plt"
   ]
  },
  {
   "cell_type": "code",
   "execution_count": 105,
   "metadata": {},
   "outputs": [],
   "source": [
    "positions = np.array(positions)"
   ]
  },
  {
   "cell_type": "code",
   "execution_count": 106,
   "metadata": {},
   "outputs": [
    {
     "data": {
      "text/plain": [
       "Text(0, 0.5, 'x-coordinates')"
      ]
     },
     "execution_count": 106,
     "metadata": {},
     "output_type": "execute_result"
    },
    {
     "data": {
      "image/png": "[encoded data removed]",
      "text/plain": [
       "<Figure size 432x288 with 1 Axes>"
      ]
     },
     "metadata": {
      "needs_background": "light"
     },
     "output_type": "display_data"
    }
   ],
   "source": [
    "x1s = positions[:,0,:]\n",
    "\n",
    "x1s_x = x1s[:, 0]\n",
    "x1s_y = x1s[:, 1]\n",
    "\n",
    "plt.scatter(t, x1s_x)\n",
    "plt.title('M1s positions')\n",
    "plt.xlabel('time')\n",
    "plt.ylabel('x-coordinates')"
   ]
  },
  {
   "cell_type": "code",
   "execution_count": 107,
   "metadata": {},
   "outputs": [
    {
     "data": {
      "text/plain": [
       "Text(0, 0.5, 'x-coordinates')"
      ]
     },
     "execution_count": 107,
     "metadata": {},
     "output_type": "execute_result"
    },
    {
     "data": {
      "image/png": "[encoded data removed]",
      "text/plain": [
       "<Figure size 432x288 with 1 Axes>"
      ]
     },
     "metadata": {
      "needs_background": "light"
     },
     "output_type": "display_data"
    }
   ],
   "source": [
    "x1s = positions[:,1,:]\n",
    "\n",
    "x1s_x = x1s[:, 0]\n",
    "x1s_y = x1s[:, 1]\n",
    "\n",
    "plt.scatter(t, x1s_x)\n",
    "plt.title('M2s positions')\n",
    "plt.xlabel('time')\n",
    "plt.ylabel('x-coordinates')"
   ]
  },
  {
   "cell_type": "code",
   "execution_count": 108,
   "metadata": {},
   "outputs": [
    {
     "data": {
      "text/plain": [
       "Text(0, 0.5, 'x-coordinates')"
      ]
     },
     "execution_count": 108,
     "metadata": {},
     "output_type": "execute_result"
    },
    {
     "data": {
      "image/png": "[encoded data removed]",
      "text/plain": [
       "<Figure size 432x288 with 1 Axes>"
      ]
     },
     "metadata": {
      "needs_background": "light"
     },
     "output_type": "display_data"
    }
   ],
   "source": [
    "x1s = positions[:,2,:]\n",
    "\n",
    "x1s_x = x1s[:, 0]\n",
    "x1s_y = x1s[:, 1]\n",
    "\n",
    "plt.scatter(t, x1s_x)\n",
    "plt.title('M3s positions x')\n",
    "plt.xlabel('time')\n",
    "plt.ylabel('x-coordinates')"
   ]
  },
  {
   "cell_type": "code",
   "execution_count": 109,
   "metadata": {},
   "outputs": [
    {
     "data": {
      "text/plain": [
       "Text(0, 0.5, 'y-coordinates')"
      ]
     },
     "execution_count": 109,
     "metadata": {},
     "output_type": "execute_result"
    },
    {
     "data": {
      "image/png": "[encoded data removed]",
      "text/plain": [
       "<Figure size 432x288 with 1 Axes>"
      ]
     },
     "metadata": {
      "needs_background": "light"
     },
     "output_type": "display_data"
    }
   ],
   "source": [
    "plt.scatter(t, x1s_y)\n",
    "plt.title('M3s positions y')\n",
    "plt.xlabel('time')\n",
    "plt.ylabel('y-coordinates')"
   ]
  },
  {
   "cell_type": "markdown",
   "metadata": {},
   "source": [
    "# Conclusion-report"
   ]
  },
  {
   "cell_type": "markdown",
   "metadata": {},
   "source": [
    "From the results above we can see that tweaking the parameters of masses and/or friction coefficients has great impact on the positions of the objects. Also we can see that I have done something wrong, because when M1 moves to the left (since the x-coordinates are negative) M2 moves to the right with drastic and unimaginable steps. This cannot happen. The same can be said about the vertical movement of M3, the coordinate values are too big.\n",
    "I've changed the force diagrams and respectively the system of the equations is also changed, which will result in the change of solution."
   ]
  }
 ],
 "metadata": {
  "kernelspec": {
   "display_name": "Python 3",
   "language": "python",
   "name": "python3"
  },
  "language_info": {
   "codemirror_mode": {
    "name": "ipython",
    "version": 3
   },
   "file_extension": ".py",
   "mimetype": "text/x-python",
   "name": "python",
   "nbconvert_exporter": "python",
   "pygments_lexer": "ipython3",
   "version": "3.7.4"
  }
 },
 "nbformat": 4,
 "nbformat_minor": 2
}
