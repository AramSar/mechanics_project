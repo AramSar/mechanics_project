{
 "cells": [
  {
   "cell_type": "markdown",
   "metadata": {},
   "source": [
    "Let's construct the system of equations based on the diagrams of forces below."
   ]
  },
  {
   "cell_type": "markdown",
   "metadata": {},
   "source": [
    "$$ F_{1} + F - f_{1} - f_{2} - N_{0x} = M_{1}a_{1} $$\n",
    "\n",
    "$$ T - f_{2} = M_{2}a_{2} $$\n",
    "\n",
    "$$ -F_{1} = M_{3}a_{3x} $$\n",
    "\n",
    "$$ f_{3} + T - M_{3}g = M_{3}a_{3y} $$\n",
    "\n",
    "$$ N_{0x} - T = M_{0}a_{0} = 0 $$\n",
    "\n",
    "Constraints(the derivation can be found in the solution of the quiz):\n",
    "$$ a_{1} - a_{2} - a_{3y} = 0 $$\n",
    "$$ a_{1} = a_{3x} $$"
   ]
  },
  {
   "cell_type": "markdown",
   "metadata": {},
   "source": [
    "<img src=\"fd.png\">"
   ]
  },
  {
   "cell_type": "markdown",
   "metadata": {},
   "source": [
    "Let's note that\n",
    "$$ f_{1} = \\mu_{1}N_{1} $$\n",
    "$$ f_{2} = \\mu_{2}N_{2} $$\n",
    "$$ f_{3} = \\mu_{3}F_{1} $$\n",
    "are forces emerged because of friction.\n",
    "Where\n",
    "$$ N_{1} = M_{1}g + N_{2} + N_{0y}$$\n",
    "$$ N_{2} = M_{2}g $$\n",
    "$$ N_{0y} = T\\sqrt{2}/2 $$ from the diagram of M0\n"
   ]
  },
  {
   "cell_type": "markdown",
   "metadata": {},
   "source": [
    "From the system of equations above, we can find $ x_{1}(t), x_{2}(t), y_{3}(t)$. Having the mentioned functions. We will be able to calculate their values at a given time $t$."
   ]
  },
  {
   "cell_type": "markdown",
   "metadata": {},
   "source": [
    "IMPORTANT NOTE: After several changes, it is important to say that the pictures of my calculations are not valid anymore. The corresponding changes have been made and the new system was computed, which can be seen below."
   ]
  },
  {
   "cell_type": "code",
   "execution_count": 6,
   "metadata": {},
   "outputs": [],
   "source": [
    "import numpy as np\n",
    "import matplotlib.pyplot as plt"
   ]
  },
  {
   "cell_type": "code",
   "execution_count": 503,
   "metadata": {},
   "outputs": [],
   "source": [
    "M1 = 1\n",
    "M2 = 1\n",
    "M3 = 2\n",
    "mu1 = 0.9\n",
    "mu2 = 0.6\n",
    "mu3 = 0.1\n",
    "g = 10"
   ]
  },
  {
   "cell_type": "code",
   "execution_count": 504,
   "metadata": {},
   "outputs": [],
   "source": [
    "# The system of the linear equations describe din the beginning is reduced to A*[a1, a2]^T = b, and presented below\n",
    "# with corresponding A and b\n",
    "def compute_accelerations(F):\n",
    "    A = np.array([[(M1 - M3), M2 + mu1*M2/(np.sqrt(2))], [mu3*M3 - M3, M2 + M3]])\n",
    "    b = np.array([[F - mu1*g*(M1+M2+mu2*M2/(np.sqrt(2))), M3*g - M2*mu2*g]])\n",
    "    a = np.linalg.inv(A).dot(b.T)\n",
    "    a = np.squeeze(a)\n",
    "    a1 = [a[0], 0]\n",
    "    a2 = [a[1], 0]\n",
    "    a3 = [a1[0], a1[0] - a2[0]]\n",
    "    return a1, a2, a3\n",
    "    "
   ]
  },
  {
   "cell_type": "code",
   "execution_count": 505,
   "metadata": {},
   "outputs": [],
   "source": [
    "# Just a random example of t and F, it should be changed by the data on which the program should work\n",
    "t = np.linspace(1, 20, 30)\n",
    "F = np.random.random(30)*(-600) + 300"
   ]
  },
  {
   "cell_type": "code",
   "execution_count": 506,
   "metadata": {},
   "outputs": [],
   "source": [
    "v1 = 0; v2 = 0; v3 = 0\n",
    "x1 = [0, 0]\n",
    "x2 = [0, 0]\n",
    "x3 = [0, 0]"
   ]
  },
  {
   "cell_type": "code",
   "execution_count": 507,
   "metadata": {},
   "outputs": [],
   "source": [
    "positions = []\n",
    "for i in range(len(t)):\n",
    "    a1, a2, a3 = compute_accelerations(F[i])\n",
    "    x1[0] += v1*t[i] + a1[0]*(t[i]**2)/2\n",
    "    v1 += a1[0]*t[i]\n",
    "    x2[0] += x1[0] + v2*t[i] + a2[0]*(t[i]**2)/2\n",
    "    v2 += a2[0]*t[i]\n",
    "    x3[0] = x1[0]\n",
    "    x3[1] += v3*t[i] + a3[1]*(t[i]**2)/2\n",
    "    v3 += a3[1]*t[i]\n",
    "    positions.append([x1.copy(), x2.copy(), x3.copy()])"
   ]
  },
  {
   "cell_type": "code",
   "execution_count": 508,
   "metadata": {},
   "outputs": [],
   "source": [
    "positions = np.array(positions)"
   ]
  },
  {
   "cell_type": "code",
   "execution_count": 509,
   "metadata": {},
   "outputs": [
    {
     "data": {
      "image/png": "[encoded data removed]",
      "text/plain": [
       "<Figure size 432x288 with 1 Axes>"
      ]
     },
     "metadata": {
      "needs_background": "light"
     },
     "output_type": "display_data"
    }
   ],
   "source": [
    "x1s = positions[:,0,:]\n",
    "\n",
    "x1s_x = x1s[:, 0]\n",
    "x1s_y = x1s[:, 1]\n",
    "\n",
    "plt.scatter(t, x1s_x)\n",
    "plt.title('M1s positions')\n",
    "plt.xlabel('time')\n",
    "plt.ylabel('x-coordinates')"
   ]
  },
  {
   "cell_type": "code",
   "execution_count": 510,
   "metadata": {},
   "outputs": [
    {
     "data": {
      "text/plain": [
       "Text(0, 0.5, 'x-coordinates')"
      ]
     },
     "execution_count": 510,
     "metadata": {},
     "output_type": "execute_result"
    },
    {
     "data": {
      "image/png": "[encoded data removed]",
      "text/plain": [
       "<Figure size 432x288 with 1 Axes>"
      ]
     },
     "metadata": {
      "needs_background": "light"
     },
     "output_type": "display_data"
    }
   ],
   "source": [
    "x1s = positions[:,1,:]\n",
    "\n",
    "x1s_x = x1s[:, 0]\n",
    "x1s_y = x1s[:, 1]\n",
    "\n",
    "plt.scatter(t, x1s_x)\n",
    "plt.title('M2s positions')\n",
    "plt.xlabel('time')\n",
    "plt.ylabel('x-coordinates')"
   ]
  },
  {
   "cell_type": "code",
   "execution_count": 511,
   "metadata": {},
   "outputs": [
    {
     "data": {
      "text/plain": [
       "Text(0, 0.5, 'x-coordinates')"
      ]
     },
     "execution_count": 511,
     "metadata": {},
     "output_type": "execute_result"
    },
    {
     "data": {
      "image/png": "[encoded data removed]",
      "text/plain": [
       "<Figure size 432x288 with 1 Axes>"
      ]
     },
     "metadata": {
      "needs_background": "light"
     },
     "output_type": "display_data"
    }
   ],
   "source": [
    "x1s = positions[:,2,:]\n",
    "\n",
    "x1s_x = x1s[:, 0]\n",
    "x1s_y = x1s[:, 1]\n",
    "\n",
    "plt.scatter(t, x1s_x)\n",
    "plt.title('M3s positions x')\n",
    "plt.xlabel('time')\n",
    "plt.ylabel('x-coordinates')"
   ]
  },
  {
   "cell_type": "code",
   "execution_count": 512,
   "metadata": {},
   "outputs": [
    {
     "data": {
      "text/plain": [
       "Text(0, 0.5, 'y-coordinates')"
      ]
     },
     "execution_count": 512,
     "metadata": {},
     "output_type": "execute_result"
    },
    {
     "data": {
      "image/png": "[encoded data removed]",
      "text/plain": [
       "<Figure size 432x288 with 1 Axes>"
      ]
     },
     "metadata": {
      "needs_background": "light"
     },
     "output_type": "display_data"
    }
   ],
   "source": [
    "plt.scatter(t, x1s_y)\n",
    "plt.title('M3s positions y')\n",
    "plt.xlabel('time')\n",
    "plt.ylabel('y-coordinates')"
   ]
  },
  {
   "cell_type": "markdown",
   "metadata": {},
   "source": [
    "# Conclusion-report"
   ]
  },
  {
   "cell_type": "markdown",
   "metadata": {},
   "source": [
    "#### What was wron in the first submission?"
   ]
  },
  {
   "cell_type": "markdown",
   "metadata": {},
   "source": [
    "Let me explain the errors of my first submission in couple of words. In the first submission I did not take into consideration the external force F. It was not included in the system of linear equations, therefore there were some inconsistencies. Moreover some forces were missing like from my diagram and system of the equations. In this version, all missing parts are added. Moreover, the graphs drawn were not correct and the range in which F was generated was not corresponding to the specifications in the formulation of the problem. These are changed, too."
   ]
  },
  {
   "cell_type": "markdown",
   "metadata": {},
   "source": [
    "#### Some interesting results"
   ]
  },
  {
   "cell_type": "markdown",
   "metadata": {},
   "source": [
    "From the results above we can see that tweaking the parameters of masses and/or friction coefficients can change the behavior of objects. There are several ineresting cases I've encountered during experimenting with the code. The above presented graphs are for the case when (see plot case1.png for M1's plot of this case)\n",
    "\n",
    "M1 = 10\n",
    "M2 = 4\n",
    "M3 = 2\n",
    "mu1 = 0.9\n",
    "mu2 = 0.5\n",
    "mu3 = 0.1\n",
    "g = 10\n",
    "and F is positive at each timestamp t.\n",
    "\n",
    "More particularly F = [ 64.92598801, 248.42600138,  16.73132729, 246.8873573 ,\n",
    "                       134.14449981,  93.57422599,  65.24263241, 275.98608286,\n",
    "                        53.58007021,  41.41405529,  97.14903806, 162.76453976,\n",
    "                       170.83738211, 274.25409243,  88.55554165,  41.39411493,\n",
    "                        82.94529418, 253.77365527, 193.73564967,  88.26112618,\n",
    "                       197.48707232,  64.49265544, 176.38774461,  37.83189414,\n",
    "                       221.59350998,  33.58515471, 203.10447009, 273.02788675,\n",
    "                        82.78706555, 168.89017043]\n",
    "                        \n",
    "Very interestingly we see some oscillations in movement of M1. However, in the graph of movement of M2 we see a decreasing tendency, so M2 does not oscillate.\n",
    "\n",
    "Another example is (see case2.png for M1's plot for this case)\n",
    "\n",
    "M1 = 20\n",
    "M2 = 8\n",
    "M3 = 5\n",
    "mu1 = 0.7\n",
    "mu2 = 0.6\n",
    "mu3 = 0.2\n",
    "g = 10\n",
    "The values of F are random \n",
    "In this case we see that the objects move to the left, since the x coordinates are negative and decrease.\n",
    "\n",
    "\n",
    "In case 3 (see case3.png) is what we get when masses of the objects are relatively small and close to each other.\n",
    "\n",
    "M1 = 1\n",
    "M2 = 1\n",
    "M3 = 2\n",
    "mu1 = 0.9\n",
    "mu2 = 0.6\n",
    "mu3 = 0.1\n",
    "g = 10\n",
    "For random F\n",
    "\n",
    "So, we can conclide that masses, friction coefficients ad force applied at each timestamp can drastically change the movement of the objects."
   ]
  }
 ],
 "metadata": {
  "kernelspec": {
   "display_name": "Python 3",
   "language": "python",
   "name": "python3"
  },
  "language_info": {
   "codemirror_mode": {
    "name": "ipython",
    "version": 3
   },
   "file_extension": ".py",
   "mimetype": "text/x-python",
   "name": "python",
   "nbconvert_exporter": "python",
   "pygments_lexer": "ipython3",
   "version": "3.7.4"
  }
 },
 "nbformat": 4,
 "nbformat_minor": 2
}
