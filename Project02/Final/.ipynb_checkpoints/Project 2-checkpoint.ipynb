{
 "cells": [
  {
   "cell_type": "markdown",
   "metadata": {},
   "source": [
    "Let's construct the system of equations based on the diagrams of forces below."
   ]
  },
  {
   "cell_type": "markdown",
   "metadata": {},
   "source": [
    "$$ F_{1} - f_{1} - N_{0x} = M_{1}a_{1} $$\n",
    "$$ T - f_{2} = M_{2}a_{2} $$\n",
    "$$ -F_{1} = M_{3}a_{3x} $$\n",
    "$$ 2f_{3} + T - M_{3}g = M_{3}a_{3y} $$\n",
    "$$ N_{0x} - T = M_{0}a_{0} = 0 $$\n",
    "\n",
    "Constraints(the derivation can be found in the solution of the quiz):\n",
    "$$ a_{1} - a_{2} - a_{3y} = 0 $$\n",
    "$$ a_{1} = a_{3x} $$"
   ]
  },
  {
   "cell_type": "markdown",
   "metadata": {},
   "source": [
    "<img src=\"fd.png\">"
   ]
  },
  {
   "cell_type": "markdown",
   "metadata": {},
   "source": [
    "Let's note that\n",
    "$$ f_{1} = \\mu_{1}N_{1} $$\n",
    "$$ f_{2} = \\mu_{2}N_{2} $$\n",
    "$$ f_{3} = \\mu_{3}F_{1} $$\n",
    "are forces emerged because of friction."
   ]
  },
  {
   "cell_type": "markdown",
   "metadata": {},
   "source": [
    "From the system of equations above, we can find $F_{1}(t)$ and $ x_{1}(t), x_{2}(t), y_{3}(t)$. Having the mentioned functions. We will be able to calculate their values at a given time $t$."
   ]
  },
  {
   "cell_type": "code",
   "execution_count": 1,
   "metadata": {},
   "outputs": [],
   "source": [
    "import numpy as np"
   ]
  },
  {
   "cell_type": "code",
   "execution_count": 186,
   "metadata": {},
   "outputs": [],
   "source": [
    "M1 = 10\n",
    "M2 = 5\n",
    "M3 = 3\n",
    "mu1 = 0.09\n",
    "mu2 = 0.3\n",
    "mu3 = 0.4\n",
    "g = 10"
   ]
  },
  {
   "cell_type": "markdown",
   "metadata": {},
   "source": [
    "# General solution of the system"
   ]
  },
  {
   "cell_type": "code",
   "execution_count": 187,
   "metadata": {},
   "outputs": [],
   "source": [
    "# The system of linear equations (see images calcs1.jpeg and calcs2.jpeg for more detail)\n",
    "A = np.array([[-(M1 + M3), -M2], [-(2*mu3*M3 + M3), M2 + M3]])\n",
    "b = np.array([[M2*mu2*g + M1*mu1*g + M2*mu1*g, M3*g - M2*mu2*g]])"
   ]
  },
  {
   "cell_type": "code",
   "execution_count": 188,
   "metadata": {},
   "outputs": [],
   "source": [
    "# Solve\n",
    "a = np.linalg.inv(A).dot(b.T)\n",
    "a = np.squeeze(a)"
   ]
  },
  {
   "cell_type": "code",
   "execution_count": 189,
   "metadata": {},
   "outputs": [
    {
     "data": {
      "text/plain": [
       "([-2.312977099236641, 0],\n",
       " [0.3137404580152672, 0],\n",
       " [-2.312977099236641, -2.6267175572519084])"
      ]
     },
     "execution_count": 189,
     "metadata": {},
     "output_type": "execute_result"
    }
   ],
   "source": [
    "a1 = [a[0], 0]\n",
    "a2 = [a[1], 0]\n",
    "a3 = [a1[0], a[0] - a2[0]]\n",
    "\n",
    "a1, a2, a3"
   ]
  },
  {
   "cell_type": "markdown",
   "metadata": {},
   "source": [
    "# Our problem"
   ]
  },
  {
   "cell_type": "code",
   "execution_count": 190,
   "metadata": {},
   "outputs": [],
   "source": [
    "# I don't really get why we need to get F as an inpuy if we can find it from the system of linear equations I presented above\n",
    "# but anyways, in that case a1 = -F/M3 and a2 = (T - mu2*M2*g)/M2, where T = F - mu1*g*(M1 + M2) - M1*a1\n",
    "def compute_accelerations(F):\n",
    "    a1 = -F/M3\n",
    "    T =  F - mu1*g*(M1 + M2) - M1*a1\n",
    "    a2 = (T - mu2*M2*g)/M2\n",
    "    \n",
    "    a1 = [a1, 0]\n",
    "    a2 = [a2, 0]\n",
    "    a3 = [a1[0], a1[0] - a2[0]]\n",
    "    \n",
    "    return a1, a2, a3\n",
    "    "
   ]
  },
  {
   "cell_type": "code",
   "execution_count": 191,
   "metadata": {},
   "outputs": [],
   "source": [
    "# Just an example of t and F, it should be changed by the data on which the program should work\n",
    "t = np.linspace(1, 20, 30)\n",
    "F = np.random.random(30)*(-1) + 300"
   ]
  },
  {
   "cell_type": "code",
   "execution_count": 192,
   "metadata": {},
   "outputs": [
    {
     "data": {
      "text/plain": [
       "array([ 1.        ,  1.65517241,  2.31034483,  2.96551724,  3.62068966,\n",
       "        4.27586207,  4.93103448,  5.5862069 ,  6.24137931,  6.89655172,\n",
       "        7.55172414,  8.20689655,  8.86206897,  9.51724138, 10.17241379,\n",
       "       10.82758621, 11.48275862, 12.13793103, 12.79310345, 13.44827586,\n",
       "       14.10344828, 14.75862069, 15.4137931 , 16.06896552, 16.72413793,\n",
       "       17.37931034, 18.03448276, 18.68965517, 19.34482759, 20.        ])"
      ]
     },
     "execution_count": 192,
     "metadata": {},
     "output_type": "execute_result"
    }
   ],
   "source": [
    "t"
   ]
  },
  {
   "cell_type": "code",
   "execution_count": 193,
   "metadata": {},
   "outputs": [],
   "source": [
    "v1 = 0; v2 = 0; v3 = 0\n",
    "x1 = [0, 0]\n",
    "x2 = [0, 0]\n",
    "x3 = [0, 0]"
   ]
  },
  {
   "cell_type": "code",
   "execution_count": 194,
   "metadata": {},
   "outputs": [],
   "source": [
    "positions = []\n",
    "for i in range(len(t)):\n",
    "    a1, a2, a3 = compute_accelerations(F[i])\n",
    "    x1[0] += v1*t[i] + a1[0]*(t[i]**2)/2\n",
    "    v1 += a1[0]*t[i]\n",
    "    x2[0] += v2*t[i] + a2[0]*(t[i]**2)/2\n",
    "    v2 += a2[0]*t[i]\n",
    "    x3[0] = x1[0]\n",
    "    x3[1] += v3*t[i] + a3[1]*(t[i]**2)/2\n",
    "    v3 += a3[1]*t[i]\n",
    "    positions.append([x1.copy(), x2.copy(), x3.copy()])"
   ]
  },
  {
   "cell_type": "code",
   "execution_count": 195,
   "metadata": {},
   "outputs": [],
   "source": [
    "import matplotlib.pyplot as plt"
   ]
  },
  {
   "cell_type": "code",
   "execution_count": 196,
   "metadata": {},
   "outputs": [],
   "source": [
    "positions = np.array(positions)"
   ]
  },
  {
   "cell_type": "code",
   "execution_count": 197,
   "metadata": {},
   "outputs": [
    {
     "data": {
      "text/plain": [
       "Text(0.5, 1.0, 'M1s positions')"
      ]
     },
     "execution_count": 197,
     "metadata": {},
     "output_type": "execute_result"
    },
    {
     "data": {
      "image/png": "[encoded data removed]",
      "text/plain": [
       "<Figure size 432x288 with 1 Axes>"
      ]
     },
     "metadata": {
      "needs_background": "light"
     },
     "output_type": "display_data"
    }
   ],
   "source": [
    "x1s = positions[:,0,:]\n",
    "\n",
    "x1s_x = x1s[:, 0]\n",
    "x1s_y = x1s[:, 1]\n",
    "\n",
    "plt.scatter(x1s_x, x1s_y)\n",
    "plt.title('M1s positions')"
   ]
  },
  {
   "cell_type": "code",
   "execution_count": 198,
   "metadata": {},
   "outputs": [
    {
     "data": {
      "text/plain": [
       "Text(0.5, 1.0, 'M2s positions')"
      ]
     },
     "execution_count": 198,
     "metadata": {},
     "output_type": "execute_result"
    },
    {
     "data": {
      "image/png": "[encoded data removed]",
      "text/plain": [
       "<Figure size 432x288 with 1 Axes>"
      ]
     },
     "metadata": {
      "needs_background": "light"
     },
     "output_type": "display_data"
    }
   ],
   "source": [
    "x1s = positions[:,1,:]\n",
    "\n",
    "x1s_x = x1s[:, 0]\n",
    "x1s_y = x1s[:, 1]\n",
    "\n",
    "plt.scatter(x1s_x, x1s_y)\n",
    "plt.title('M2s positions')"
   ]
  },
  {
   "cell_type": "code",
   "execution_count": 199,
   "metadata": {},
   "outputs": [
    {
     "data": {
      "text/plain": [
       "Text(0.5, 1.0, 'M3s positions')"
      ]
     },
     "execution_count": 199,
     "metadata": {},
     "output_type": "execute_result"
    },
    {
     "data": {
      "image/png": "[encoded data removed]",
      "text/plain": [
       "<Figure size 432x288 with 1 Axes>"
      ]
     },
     "metadata": {
      "needs_background": "light"
     },
     "output_type": "display_data"
    }
   ],
   "source": [
    "x1s = positions[:,2,:]\n",
    "\n",
    "x1s_x = x1s[:, 0]\n",
    "x1s_y = x1s[:, 1]\n",
    "\n",
    "plt.scatter(x1s_x, x1s_y)\n",
    "plt.title('M3s positions')"
   ]
  }
 ],
 "metadata": {
  "kernelspec": {
   "display_name": "Python 3",
   "language": "python",
   "name": "python3"
  },
  "language_info": {
   "codemirror_mode": {
    "name": "ipython",
    "version": 3
   },
   "file_extension": ".py",
   "mimetype": "text/x-python",
   "name": "python",
   "nbconvert_exporter": "python",
   "pygments_lexer": "ipython3",
   "version": "3.7.4"
  }
 },
 "nbformat": 4,
 "nbformat_minor": 2
}
